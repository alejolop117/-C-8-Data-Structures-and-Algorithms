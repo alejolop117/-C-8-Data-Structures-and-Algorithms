{
  "nbformat": 4,
  "nbformat_minor": 0,
  "metadata": {
    "colab": {
      "provenance": [],
      "authorship_tag": "ABX9TyMWknHDnjXqO0csOrvTA65A",
      "include_colab_link": true
    },
    "kernelspec": {
      "name": "python3",
      "display_name": "Python 3"
    },
    "language_info": {
      "name": "python"
    }
  },
  "cells": [
    {
      "cell_type": "markdown",
      "metadata": {
        "id": "view-in-github",
        "colab_type": "text"
      },
      "source": [
        "<a href=\"https://colab.research.google.com/github/alejolop117/-C-8-Data-Structures-and-Algorithms/blob/master/Examples_Class29_09.ipynb\" target=\"_parent\"><img src=\"https://colab.research.google.com/assets/colab-badge.svg\" alt=\"Open In Colab\"/></a>"
      ]
    },
    {
      "cell_type": "code",
      "execution_count": 1,
      "metadata": {
        "colab": {
          "base_uri": "https://localhost:8080/",
          "height": 293
        },
        "id": "4Y7XFSlKQ-mz",
        "outputId": "b0386a4f-e1db-467a-ba17-b169cc2c8194"
      },
      "outputs": [
        {
          "output_type": "execute_result",
          "data": {
            "text/plain": [
              "[<matplotlib.lines.Line2D at 0x7f78d9745c90>]"
            ]
          },
          "metadata": {},
          "execution_count": 1
        },
        {
          "output_type": "display_data",
          "data": {
            "text/plain": [
              "<Figure size 432x288 with 1 Axes>"
            ],
            "image/png": "[encoded data removed]"
          },
          "metadata": {
            "needs_background": "light"
          }
        }
      ],
      "source": [
        "import numpy as np\n",
        "import matplotlib.pyplot as plt\n",
        "\n",
        "t=0\n",
        "#Condiciones iniciales\n",
        "x0=0 \n",
        "x1=1\n",
        "dt=0.01\n",
        "\n",
        "#arreglo de datos para guardar todos los valores de la variable\n",
        "X0 = [x0] \n",
        "T= [t]\n",
        "\n",
        "while(t<= 10):\n",
        "  x0_nueva = x0+dt*x1\n",
        "  x1_nueva = x1+dt*(np.cos(3*t)+3*x1+5*x0)\n",
        "  t=t+dt\n",
        "\n",
        "  x0 = x0_nueva\n",
        "  x1 = x1_nueva\n",
        "  #Se guardan los valores en los arreglos\n",
        "  X0.append(x0)\n",
        "  T.append(t)\n",
        "\n",
        "plt.plot(T,X0)\n",
        "\n"
      ]
    },
    {
      "cell_type": "code",
      "source": [
        "import numpy as np\n",
        "import matplotlib.pyplot as plt\n",
        "\n",
        "t=0\n",
        "#Condiciones iniciales\n",
        "x0=10 \n",
        "x1=0\n",
        "dt=0.01\n",
        "\n",
        "#arreglo de datos para guardar todos los valores de la variable\n",
        "X0 = [x0] \n",
        "T= [t]\n",
        "\n",
        "while(t<= 10):\n",
        "  x0_nueva = x0+dt*x1\n",
        "  x1_nueva = x1+dt*(5-4*x1-104*x0)\n",
        "  t=t+dt\n",
        "\n",
        "  x0 = x0_nueva\n",
        "  x1 = x1_nueva\n",
        "  #Se guardan los valores en los arreglos\n",
        "  X0.append(x0)\n",
        "  T.append(t)\n",
        "\n",
        "plt.plot(T,X0)"
      ],
      "metadata": {
        "colab": {
          "base_uri": "https://localhost:8080/",
          "height": 282
        },
        "id": "lo-V50lfUE-m",
        "outputId": "a909c154-2d64-4ea3-c92c-ecabd529dec6"
      },
      "execution_count": 2,
      "outputs": [
        {
          "output_type": "execute_result",
          "data": {
            "text/plain": [
              "[<matplotlib.lines.Line2D at 0x7f78d9245d90>]"
            ]
          },
          "metadata": {},
          "execution_count": 2
        },
        {
          "output_type": "display_data",
          "data": {
            "text/plain": [
              "<Figure size 432x288 with 1 Axes>"
            ],
            "image/png": "[encoded data removed]"
          },
          "metadata": {
            "needs_background": "light"
          }
        }
      ]
    }
  ]
}