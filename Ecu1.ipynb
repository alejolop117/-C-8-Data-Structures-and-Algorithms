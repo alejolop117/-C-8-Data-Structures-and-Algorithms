{
  "nbformat": 4,
  "nbformat_minor": 0,
  "metadata": {
    "colab": {
      "provenance": [],
      "authorship_tag": "ABX9TyPyJ2czQCN2CVcy+2fmjufb",
      "include_colab_link": true
    },
    "kernelspec": {
      "name": "python3",
      "display_name": "Python 3"
    },
    "language_info": {
      "name": "python"
    }
  },
  "cells": [
    {
      "cell_type": "markdown",
      "metadata": {
        "id": "view-in-github",
        "colab_type": "text"
      },
      "source": [
        "<a href=\"https://colab.research.google.com/github/alejolop117/-C-8-Data-Structures-and-Algorithms/blob/master/Ecu1.ipynb\" target=\"_parent\"><img src=\"https://colab.research.google.com/assets/colab-badge.svg\" alt=\"Open In Colab\"/></a>"
      ]
    },
    {
      "cell_type": "code",
      "source": [
        "import numpy as np\n",
        "import matplotlib.pyplot as plt\n",
        "\n",
        "t=0;\n",
        "x0 = 3.5\n",
        "x1 = -7.5\n",
        "dt = 0.01\n",
        "X0 = [x0]\n",
        "T = [t]\n",
        "\n",
        "while(t<=10):\n",
        "    x0 = x0 + dt * x1\n",
        "    x1 = x1 + dt * (np.exp(-t)-5*x1-6*x0)\n",
        "    t = t + dt\n",
        "    X0.append(t)\n",
        "    T.append(t)\n",
        "plt.plot(T, X0)"
      ],
      "metadata": {
        "colab": {
          "base_uri": "https://localhost:8080/",
          "height": 282
        },
        "id": "WYNdX2LILo60",
        "outputId": "abbe36ee-58af-454a-aa31-4ee4e9ac64df"
      },
      "execution_count": 1,
      "outputs": [
        {
          "output_type": "execute_result",
          "data": {
            "text/plain": [
              "[<matplotlib.lines.Line2D at 0x7f44c674e4d0>]"
            ]
          },
          "metadata": {},
          "execution_count": 1
        },
        {
          "output_type": "display_data",
          "data": {
            "text/plain": [
              "<Figure size 432x288 with 1 Axes>"
            ],
            "image/png": "[encoded data removed]"
          },
          "metadata": {
            "needs_background": "light"
          }
        }
      ]
    }
  ]
}